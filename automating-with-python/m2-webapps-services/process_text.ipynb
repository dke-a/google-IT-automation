{
 "cells": [
  {
   "cell_type": "code",
   "execution_count": null,
   "metadata": {},
   "outputs": [],
   "source": [
    "## Use SCP to copy files locally."
   ]
  },
  {
   "cell_type": "code",
   "execution_count": null,
   "metadata": {},
   "outputs": [],
   "source": [
    "# !/usr/bin/env python3\n",
    "\n",
    "import os\n",
    "import requests\n",
    "\n",
    "# Directory containing the feedback files\n",
    "feedback_dir = 'feedback'\n",
    "\n",
    "# Convert each feedback file into a dictionary\n",
    "def process_feedback(file_path):\n",
    "    with open(file_path, 'r') as file:\n",
    "        lines = file.readlines()\n",
    "        feedback = {\n",
    "            \"title\": lines[0].strip(),\n",
    "            \"name\": lines[1].strip(),\n",
    "            \"date\": lines[2].strip(),\n",
    "            \"feedback\": \" \".join(lines[3:]).strip()\n",
    "        }\n",
    "        return feedback\n",
    "\n",
    "# List all .txt files\n",
    "for file_name in os.listdir(feedback_dir):\n",
    "    if file_name.endswith('.txt'):\n",
    "        file_path = os.path.join(feedback_dir, file_name)\n",
    "        feedback_data = process_feedback(file_path)\n",
    "        #print(feedback_data)\n",
    "\n",
    "        # URL to POST the data\n",
    "        response = requests.post('http://34.16.151.96/feedback/', json=feedback_data)\n",
    "\n",
    "        # Check if the POST request was successful\n",
    "        if response.status_code == 201:\n",
    "            print(f\"Feedback from {file_name} uploaded successfully.\")\n",
    "        else:\n",
    "            print(f\"Failed to upload {file_name}. Status code: {response.status_code}, Response: {response.text}\")\n"
   ]
  },
  {
   "cell_type": "markdown",
   "metadata": {},
   "source": [
    "Error encountered during first attempt to make post request. Checked response and found the following: \n",
    "\n",
    "```html\n",
    "<div id=\"summary\">\n",
    "  <h1>RuntimeError\n",
    "       at /feedback</h1>\n",
    "  <pre class=\"exception_value\">You called this URL via POST, but the URL doesn&#x27;t end in a slash and you have APPEND_SLASH set. Django can&#x27;t redirect to the slash URL while maintaining POST data. Change your form to point to 34.16.151.96/feedback/ (note the trailing slash), or set APPEND_SLASH=False in your Django settings.</pre>\n",
    "  <table class=\"meta\">\n",
    "```\n",
    "\n",
    "Resolved by adding `/` to end of url as indicated."
   ]
  }
 ],
 "metadata": {
  "kernelspec": {
   "display_name": "Python 3",
   "language": "python",
   "name": "python3"
  },
  "language_info": {
   "codemirror_mode": {
    "name": "ipython",
    "version": 3
   },
   "file_extension": ".py",
   "mimetype": "text/x-python",
   "name": "python",
   "nbconvert_exporter": "python",
   "pygments_lexer": "ipython3",
   "version": "3.11.6"
  }
 },
 "nbformat": 4,
 "nbformat_minor": 2
}
